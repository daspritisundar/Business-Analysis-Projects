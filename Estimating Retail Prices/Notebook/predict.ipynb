{
 "cells": [
  {
   "cell_type": "code",
   "execution_count": 2,
   "id": "f1deeaab-3d52-49e3-b2ab-9c2a8ecbcaf1",
   "metadata": {},
   "outputs": [],
   "source": [
    "import pandas as pd\n",
    "import numpy as np\n",
    "import joblib\n",
    "from sklearn.model_selection import train_test_split\n",
    "from sklearn.linear_model import LinearRegression\n",
    "from sklearn.preprocessing import OneHotEncoder,StandardScaler\n",
    "from sklearn.metrics import accuracy_score\n",
    "\n",
    "\n",
    "def train_model():\n",
    "    df = pd.read_csv('/content/products_200k.csv')\n",
    "    categorical=['category','brand']\n",
    "    numerical=['weight_kg','rating','warranty_years','power_usage_watts','feature_score']\n",
    "    target='price'\n",
    "\n",
    "    encoder=OneHotEncoder(sparse_output=False)\n",
    "    encoded_cat=encoder.fit_transform(df[categorical])\n",
    "    scaler=StandardScaler()\n",
    "    scaled_num=scaler.fit_transform(df[numerical])\n",
    "\n",
    "\n",
    "    X=np.hstack([encoded_cat,scaled_num])\n",
    "    y=df[target].values\n",
    "\n",
    "    X_train,X_test,y_train,y_test=train_test_split(X,y,test_size=0.2,random_state=1)\n",
    "    model=LinearRegression()\n",
    "    model.fit(X_train,y_train)\n",
    "    score=model.score(X_test,y_test)\n",
    "\n",
    "    joblib.dump((model,encoder,scaler), 'model_encoder_scaler.joblib')\n",
    "    print(score)\n"
   ]
  },
  {
   "cell_type": "code",
   "execution_count": 3,
   "id": "c9c6d0ed-248f-43dc-9cc7-8992f271daf5",
   "metadata": {},
   "outputs": [],
   "source": [
    "def predict_price(data_dict):\n",
    "  model,encoder,scaler=joblib.load('/content/model_encoder_scaler.joblib')\n",
    "  cat_features=[[data_dict['category'],data_dict['brand']]]\n",
    "  num_features=[[data_dict['weight_kg'],data_dict['rating'],data_dict['warranty_years'],data_dict['power_usage_watts'],data_dict['feature_score']]]\n",
    "\n",
    "  encoded_cat=encoder.transform(cat_features)\n",
    "  scaled_num=scaler.transform(num_features)\n",
    "  input_data=np.hstack([encoded_cat,scaled_num])\n",
    "  prediction=model.predict(input_data)\n",
    "  return round(float(prediction[0]),2)"
   ]
  },
  {
   "cell_type": "code",
   "execution_count": null,
   "id": "ee2575f4-0f9e-488e-98f7-0707dfaa4ed6",
   "metadata": {},
   "outputs": [],
   "source": []
  }
 ],
 "metadata": {
  "kernelspec": {
   "display_name": "Python 3 (ipykernel)",
   "language": "python",
   "name": "python3"
  },
  "language_info": {
   "codemirror_mode": {
    "name": "ipython",
    "version": 3
   },
   "file_extension": ".py",
   "mimetype": "text/x-python",
   "name": "python",
   "nbconvert_exporter": "python",
   "pygments_lexer": "ipython3",
   "version": "3.11.5"
  }
 },
 "nbformat": 4,
 "nbformat_minor": 5
}
